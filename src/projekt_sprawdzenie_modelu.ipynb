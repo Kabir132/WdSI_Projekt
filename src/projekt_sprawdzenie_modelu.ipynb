{
 "cells": [
  {
   "cell_type": "code",
   "execution_count": null,
   "metadata": {},
   "outputs": [],
   "source": [
    "!pip3 install opencv-python keras tensorflow kagglehub"
   ]
  },
  {
   "cell_type": "code",
   "execution_count": null,
   "metadata": {},
   "outputs": [],
   "source": [
    "import tensorflow as tf\n",
    "\n",
    "from tensorflow import keras\n",
    "from tensorflow.keras import layers\n",
    "from tensorflow.keras.models import Sequential\n",
    "# from keras.preprocessing.image import ImageDataGenerator, img_to_array, load_img\n",
    "from keras._tf_keras.keras.preprocessing.image import ImageDataGenerator, img_to_array, load_img\n",
    "from keras.preprocessing import image\n",
    "\n",
    "from tensorflow import keras"
   ]
  },
  {
   "cell_type": "code",
   "execution_count": null,
   "metadata": {},
   "outputs": [],
   "source": [
    "loaded_model = tf.keras.models.load_model(\n",
    "    \"/content/my_model_19_12.keras\", custom_objects=None, compile=True, safe_mode=True\n",
    ")\n",
    "\n",
    "loaded_model.summary()"
   ]
  },
  {
   "cell_type": "code",
   "execution_count": null,
   "metadata": {},
   "outputs": [],
   "source": [
    "from keras.applications.resnet50 import preprocess_input, decode_predictions\n",
    "test_path = f'/content/test_data/tomato_bacterial.jfif'\n",
    "\n",
    "show_image = cv.imread(test_path)\n",
    "imageResized = cv.resize(show_image, (224, 224))\n",
    "image = np.expand_dims(imageResized, axis=0)\n",
    "cv2_imshow(show_image)\n",
    "\n",
    "# img = tf.keras.utils.load_img(\n",
    "#     test_path, target_size=(0, 224, 244, 3)\n",
    "# )\n",
    "# # img_array = tf.keras.utils.img_to_array(img)\n",
    "# img_array = tf.expand_dims(img, 0) # Create a batch\n",
    "# img_array = preprocess_input(img_array)\n",
    "\n",
    "print('image shape: ',image.shape)\n",
    "\n",
    "predictions = loaded_model.predict(image)\n",
    "score = tf.nn.softmax(predictions[0])\n",
    "\n",
    "# print('Predicted:', decode_predictions(predictions, top=3)[0])\n",
    "\n",
    "print(np.argmax(score))\n",
    "print(predictions[0])\n",
    "print(score)\n",
    "\n",
    "print(\n",
    "    \"This image most likely belongs to {} with a {:.2f} percent confidence.\"\n",
    "    .format(class_names[np.argmax(score)], 100 * np.max(score))\n",
    ")"
   ]
  }
 ],
 "metadata": {
  "language_info": {
   "name": "python"
  }
 },
 "nbformat": 4,
 "nbformat_minor": 2
}
